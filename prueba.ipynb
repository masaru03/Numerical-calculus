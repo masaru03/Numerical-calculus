{
  "nbformat": 4,
  "nbformat_minor": 0,
  "metadata": {
    "colab": {
      "name": "Untitled1.ipynb",
      "provenance": [],
      "collapsed_sections": [],
      "authorship_tag": "ABX9TyO+AoXN08B78VDtpEkvumbM",
      "include_colab_link": true
    },
    "kernelspec": {
      "name": "python3",
      "display_name": "Python 3"
    },
    "language_info": {
      "name": "python"
    }
  },
  "cells": [
    {
      "cell_type": "markdown",
      "metadata": {
        "id": "view-in-github",
        "colab_type": "text"
      },
      "source": [
        "<a href=\"https://colab.research.google.com/github/masaru03/Numerical-calculus/blob/main/prueba.ipynb\" target=\"_parent\"><img src=\"https://colab.research.google.com/assets/colab-badge.svg\" alt=\"Open In Colab\"/></a>"
      ]
    },
    {
      "cell_type": "code",
      "execution_count": null,
      "metadata": {
        "colab": {
          "base_uri": "https://localhost:8080/"
        },
        "id": "_JjyfezFWibH",
        "outputId": "b3ba7ad0-f494-4ad9-af8c-0f1f23642a74"
      },
      "outputs": [
        {
          "output_type": "stream",
          "name": "stdout",
          "text": [
            "-¿Cuál es tu nombre? -preguntó la máquina.\n",
            "-Maria\n",
            "-Hola Maria, buenos días. -respondió.\n",
            "Mariano\n"
          ]
        }
      ],
      "source": [
        "import numpy as np\n",
        "import matplotlib as plt\n",
        "\n",
        "\n",
        "\n",
        "n = input('-¿Cuál es tu nombre? -preguntó la máquina.\\n-')\n",
        "print('-Hola {}, buenos días. -respondió.'.format(n))\n",
        "\n",
        "\n",
        "\n",
        "\n",
        "\n",
        "\n"
      ]
    }
  ]
}